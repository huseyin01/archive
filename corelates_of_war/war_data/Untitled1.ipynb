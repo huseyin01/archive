{
 "cells": [
  {
   "cell_type": "code",
   "execution_count": 1,
   "metadata": {},
   "outputs": [],
   "source": [
    "import pandas as pd"
   ]
  },
  {
   "cell_type": "code",
   "execution_count": 2,
   "metadata": {},
   "outputs": [],
   "source": [
    "import matplotlib.pyplot as plt"
   ]
  },
  {
   "cell_type": "code",
   "execution_count": 3,
   "metadata": {},
   "outputs": [],
   "source": [
    "import numpy as np"
   ]
  },
  {
   "cell_type": "code",
   "execution_count": 11,
   "metadata": {},
   "outputs": [
    {
     "name": "stdout",
     "output_type": "stream",
     "text": [
      "2hy_Wine Quality EDA, ML.ipynb  \u001b[34mdata_wrangling_json\u001b[m\u001b[m/\r\n",
      "3hy_Wine Quality EDA, ML.ipynb  hy_Wine Quality EDA, ML.ipynb\r\n",
      "\u001b[34mCorrelates of War Project\u001b[m\u001b[m/      \u001b[34mmini_projects\u001b[m\u001b[m/\r\n",
      "PISA_2015_MATH.csv              \u001b[34mpandas-videos\u001b[m\u001b[m/\r\n",
      "PISA_2015_READING.csv           red_wine_quality.csv\r\n",
      "PISA_2015_SCIENCE.csv           white_wine_quality.csv\r\n",
      "Untitled.ipynb                  wine_quality_modified.csv\r\n",
      "Untitled1.ipynb                 winequality-white.csv\r\n",
      "\u001b[34mcapstone_project\u001b[m\u001b[m/\r\n"
     ]
    }
   ],
   "source": [
    "ls"
   ]
  },
  {
   "cell_type": "code",
   "execution_count": 39,
   "metadata": {},
   "outputs": [],
   "source": [
    "data=pd.read_csv('winequality-white.csv', delimiter=';')"
   ]
  },
  {
   "cell_type": "code",
   "execution_count": 40,
   "metadata": {},
   "outputs": [
    {
     "name": "stdout",
     "output_type": "stream",
     "text": [
      "<class 'pandas.core.frame.DataFrame'>\n",
      "RangeIndex: 4898 entries, 0 to 4897\n",
      "Data columns (total 12 columns):\n",
      "fixed acidity           4898 non-null float64\n",
      "volatile acidity        4898 non-null float64\n",
      "citric acid             4898 non-null float64\n",
      "residual sugar          4898 non-null float64\n",
      "chlorides               4898 non-null float64\n",
      "free sulfur dioxide     4898 non-null float64\n",
      "total sulfur dioxide    4898 non-null float64\n",
      "density                 4898 non-null float64\n",
      "pH                      4898 non-null float64\n",
      "sulphates               4898 non-null float64\n",
      "alcohol                 4898 non-null float64\n",
      "quality                 4898 non-null int64\n",
      "dtypes: float64(11), int64(1)\n",
      "memory usage: 459.3 KB\n"
     ]
    }
   ],
   "source": [
    "data.info()"
   ]
  },
  {
   "cell_type": "code",
   "execution_count": 41,
   "metadata": {
    "scrolled": true
   },
   "outputs": [],
   "source": [
    "\n",
    "for feature in data.keys():\n",
    "    step=1.5*((np.percentile(data[feature], q=75))-(np.percentile(data[feature], q=25)))\n",
    "    lower_bound=(np.percentile(data[feature], q=25))-step\n",
    "    upper_bound=(np.percentile(data[feature], q=75))+step\n",
    "    data.drop(list(data.loc[data[feature]<lower_bound].index)+\n",
    "              list(data.loc[data[feature]>upper_bound].index), inplace=True)"
   ]
  },
  {
   "cell_type": "code",
   "execution_count": 42,
   "metadata": {},
   "outputs": [
    {
     "name": "stdout",
     "output_type": "stream",
     "text": [
      "<class 'pandas.core.frame.DataFrame'>\n",
      "Int64Index: 3811 entries, 0 to 4897\n",
      "Data columns (total 12 columns):\n",
      "fixed acidity           3811 non-null float64\n",
      "volatile acidity        3811 non-null float64\n",
      "citric acid             3811 non-null float64\n",
      "residual sugar          3811 non-null float64\n",
      "chlorides               3811 non-null float64\n",
      "free sulfur dioxide     3811 non-null float64\n",
      "total sulfur dioxide    3811 non-null float64\n",
      "density                 3811 non-null float64\n",
      "pH                      3811 non-null float64\n",
      "sulphates               3811 non-null float64\n",
      "alcohol                 3811 non-null float64\n",
      "quality                 3811 non-null int64\n",
      "dtypes: float64(11), int64(1)\n",
      "memory usage: 387.1 KB\n"
     ]
    }
   ],
   "source": [
    "data.info()"
   ]
  },
  {
   "cell_type": "code",
   "execution_count": 52,
   "metadata": {},
   "outputs": [],
   "source": [
    "X3 = data.iloc[:, :-1].values\n",
    "y3 = data.iloc[:, 11].values\n",
    "\n",
    "# Splitting the dataset into the Training set and Test set\n",
    "from sklearn.cross_validation import train_test_split\n",
    "X_train3, X_test3, y_train3, y_test3 = train_test_split(X3, y3, test_size = 0.2, random_state = 42)\n",
    "\n",
    "# Feature Scaling\n",
    "from sklearn.preprocessing import StandardScaler\n",
    "sc = StandardScaler()\n",
    "X_train3 = sc.fit_transform(X_train3)\n",
    "X_test3 = sc.transform(X_test3)"
   ]
  },
  {
   "cell_type": "code",
   "execution_count": 53,
   "metadata": {},
   "outputs": [],
   "source": [
    "from sklearn.decomposition import PCA\n",
    "pca = PCA(n_components = 5)\n",
    "X_train3 = pca.fit_transform(X_train3)\n",
    "X_test3 = pca.transform(X_test3)\n",
    "explained_variance = pca.explained_variance_ratio_"
   ]
  },
  {
   "cell_type": "code",
   "execution_count": 47,
   "metadata": {},
   "outputs": [],
   "source": [
    "from sklearn import linear_model\n",
    "from sklearn.linear_model import LinearRegression\n",
    "from sklearn.metrics import mean_squared_error\n",
    "from sklearn.model_selection import train_test_split\n",
    "from sklearn.model_selection import cross_val_score\n",
    "from sklearn.linear_model import LogisticRegression\n",
    "from sklearn.metrics import roc_auc_score\n",
    "from sklearn.neighbors import KNeighborsClassifier\n",
    "from sklearn.model_selection import GridSearchCV\n",
    "import scipy.stats as stats\n",
    "import matplotlib.pyplot as plt\n",
    "import sklearn\n",
    "import seaborn as sns\n",
    "from matplotlib import rcParams\n",
    "from sklearn.metrics import confusion_matrix\n",
    "from sklearn.metrics import accuracy_score"
   ]
  },
  {
   "cell_type": "code",
   "execution_count": 48,
   "metadata": {},
   "outputs": [
    {
     "name": "stdout",
     "output_type": "stream",
     "text": [
      "Accuracy: 0.6225425950196593\n",
      "Tuned Model Parameters: {'n_neighbors': 1}\n"
     ]
    }
   ],
   "source": [
    "# KNN\n",
    "\n",
    "knn_cv = GridSearchCV(KNeighborsClassifier(), param_grid={'n_neighbors': np.arange(1, 50)}, cv=5)\n",
    "knn_cv.fit(X_train, y_train)\n",
    "print(\"Accuracy: {}\".format(knn_cv.score(X_test, y_test)))\n",
    "print(\"Tuned Model Parameters: {}\".format(knn_cv.best_params_))"
   ]
  },
  {
   "cell_type": "code",
   "execution_count": 49,
   "metadata": {},
   "outputs": [
    {
     "name": "stdout",
     "output_type": "stream",
     "text": [
      "Accuracy: 0.5307994757536042\n",
      "Tuned Model Parameters: {'C': 1, 'gamma': 0.001}\n"
     ]
    }
   ],
   "source": [
    "# SVM\n",
    "\n",
    "from sklearn.svm import SVC\n",
    "Cs = [0.001, 0.01, 0.1, 1, 10]\n",
    "gammas = [0.001, 0.01, 0.1, 1]\n",
    "param_grid = {'C': Cs, 'gamma' : gammas}\n",
    "svm=SVC(kernel='linear')\n",
    "gs = GridSearchCV(svm, param_grid, cv=5)\n",
    "\n",
    "# Fit to the training set\n",
    "gs.fit(X_train, y_train)\n",
    "\n",
    "# Predict the labels of the test set: y_pred\n",
    "y_pred = gs.predict(X_test)\n",
    "\n",
    "# Compute and print metrics\n",
    "print(\"Accuracy: {}\".format(gs.score(X_test, y_test)))\n",
    "print(\"Tuned Model Parameters: {}\".format(gs.best_params_))"
   ]
  },
  {
   "cell_type": "code",
   "execution_count": 50,
   "metadata": {},
   "outputs": [
    {
     "name": "stdout",
     "output_type": "stream",
     "text": [
      "Accuracy: 0.6186107470511141\n",
      "Tuned Model Parameters: {'C': 10, 'gamma': 1}\n"
     ]
    }
   ],
   "source": [
    "# Kernel SVM\n",
    "\n",
    "Cs = [0.001, 0.01, 0.1, 1, 10]\n",
    "gammas = [0.001, 0.01, 0.1, 1]\n",
    "param_grid = {'C': Cs, 'gamma' : gammas}\n",
    "svm=SVC(kernel='rbf')\n",
    "gs = GridSearchCV(svm, param_grid, cv=5)\n",
    "\n",
    "# Fit to the training set\n",
    "gs.fit(X_train, y_train)\n",
    "\n",
    "# Predict the labels of the test set: y_pred\n",
    "y_pred = gs.predict(X_test)\n",
    "\n",
    "# Compute and print metrics\n",
    "print(\"Accuracy: {}\".format(gs.score(X_test, y_test)))\n",
    "print(\"Tuned Model Parameters: {}\".format(gs.best_params_))"
   ]
  },
  {
   "cell_type": "code",
   "execution_count": 51,
   "metadata": {},
   "outputs": [
    {
     "name": "stdout",
     "output_type": "stream",
     "text": [
      "confusion_matrix:\n",
      " [[  0  10   3   2]\n",
      " [  0 128  89   4]\n",
      " [  0  93 214  56]\n",
      " [  0  17  85  62]]\n",
      "\n",
      "\n",
      "accuracy_score: 0.5294888597640891\n"
     ]
    }
   ],
   "source": [
    "# Naive Bayes\n",
    "\n",
    "from sklearn.naive_bayes import GaussianNB\n",
    "classifier = GaussianNB()\n",
    "classifier.fit(X_train, y_train)\n",
    "\n",
    "# Predicting the Test set results\n",
    "y_pred = classifier.predict(X_test)\n",
    "\n",
    "# Making the Confusion Matrix\n",
    "cm=confusion_matrix(y_test, y_pred)\n",
    "ac=accuracy_score(y_test, y_pred)\n",
    "print('confusion_matrix:\\n {}\\n\\n\\naccuracy_score: {}'.format(cm, ac))"
   ]
  },
  {
   "cell_type": "code",
   "execution_count": null,
   "metadata": {},
   "outputs": [],
   "source": []
  }
 ],
 "metadata": {
  "kernelspec": {
   "display_name": "Python 3",
   "language": "python",
   "name": "python3"
  },
  "language_info": {
   "codemirror_mode": {
    "name": "ipython",
    "version": 3
   },
   "file_extension": ".py",
   "mimetype": "text/x-python",
   "name": "python",
   "nbconvert_exporter": "python",
   "pygments_lexer": "ipython3",
   "version": "3.6.5"
  }
 },
 "nbformat": 4,
 "nbformat_minor": 2
}
